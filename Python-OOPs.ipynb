{
 "cells": [
  {
   "cell_type": "code",
   "execution_count": 18,
   "id": "4f15bd1b-60b4-4126-a87f-bd608f5853c6",
   "metadata": {},
   "outputs": [
    {
     "name": "stdout",
     "output_type": "stream",
     "text": [
      "CAR COMPANY IS Mercedes AND MODEL NAME IS Mercedes-AMG F1 W12 E Performance in 2021\n"
     ]
    }
   ],
   "source": [
    "class Car:\n",
    "    def __init__(self,company,model,year):\n",
    "        self.company=company\n",
    "        self.model=model\n",
    "        self.myear=year\n",
    "    def display(self):\n",
    "        print(f'CAR COMPANY IS {self.company} AND MODEL NAME IS {self.model} in {self.myear}'); \n",
    "c=Car('Mercedes','Mercedes-AMG F1 W12 E Performance',2021)\n",
    "c.display()"
   ]
  },
  {
   "cell_type": "code",
   "execution_count": 34,
   "id": "d3071a6b-1c4b-495b-872a-29f45a3e3055",
   "metadata": {},
   "outputs": [
    {
     "data": {
      "text/plain": [
       "'Name: Broodie, Species: Dog, Age: 4, Color: Black, Weight: 50kg, Breed: Italian mastiff'"
      ]
     },
     "execution_count": 34,
     "metadata": {},
     "output_type": "execute_result"
    }
   ],
   "source": [
    "class Animal:\n",
    "    def __init__(self,name,sound,species,color,age,weight):\n",
    "        self.sound=sound\n",
    "        self.species=species\n",
    "        self.color=color\n",
    "        self.age=age\n",
    "        self.weight=weight\n",
    "        self.name=name\n",
    "    def make_sound(self):\n",
    "        print(f\"{self.name} says {self.sound}\")\n",
    "    def eat(self, food):\n",
    "        print(f\"{self.name} is eating {food}\")\n",
    "\n",
    "    def sleep(self):\n",
    "        print(f\"{self.name} is sleeping\")\n",
    "\n",
    "    def move(self):\n",
    "        print(f\"{self.name} is moving\")\n",
    "\n",
    "    def get_info(self):\n",
    "        return f\"Name: {self.name}, Species: {self.species}, Age: {self.age}, Color: {self.color}, Weight: {self.weight}kg\"\n",
    "\n",
    "class Dog(Animal):\n",
    "    def __init__(self,name,sound,species,color,age,weight,breed):\n",
    "        super().__init__(name,sound,species,color,age,weight)\n",
    "        self.breed=breed\n",
    "    def move(self):\n",
    "        print(f\"{self.name} is running happily\")\n",
    "\n",
    "    def get_info(self):\n",
    "        return super().get_info() + f\", Breed: {self.breed}\"\n",
    "d=Dog('Broodie','Bark','Dog','Black',4,50,'Italian mastiff');\n",
    "d.get_info() "
   ]
  },
  {
   "cell_type": "code",
   "execution_count": 50,
   "id": "e8a4f9c6-480d-4915-83a9-56e94576fedc",
   "metadata": {},
   "outputs": [
    {
     "name": "stdin",
     "output_type": "stream",
     "text": [
      "Enter Operator: +\n",
      "Enter Number: 1\n",
      "Enter Number: 2\n",
      "Enter Number: stop\n"
     ]
    },
    {
     "name": "stdout",
     "output_type": "stream",
     "text": [
      "Total= 0\n"
     ]
    }
   ],
   "source": [
    "def opsum(a,b):\n",
    "    return a+b\n",
    "def opsub(a,b):\n",
    "    return a-b\n",
    "def opmul(a,b):\n",
    "    return a*b\n",
    "def opdiv(a,b):\n",
    "    return a/b\n",
    "def opmod(a,b):\n",
    "    return a%b\n",
    "def opsq(a):\n",
    "    return a**2\n",
    "def opFun(op,*a):\n",
    "    s=0\n",
    "    for i in a:\n",
    "        s=a\n",
    "        if(op=='+'):\n",
    "            s=opsum(s,i)\n",
    "        elif(op=='*'):\n",
    "            s=opmul(s,i)\n",
    "        elif(op=='/'):\n",
    "            s=opdiv(s,i)\n",
    "        elif(op=='**2'):\n",
    "            s+=opsq(i)\n",
    "        elif(op=='-'):\n",
    "            s+=opsub(s,i)\n",
    "        elif(op==\"%\"):\n",
    "            s+=opmod(s,i)\n",
    "        else:\n",
    "            print('Wrong Operator')\n",
    "    print(\"Total=\",s)\n",
    "def inputN():\n",
    "    while(True):\n",
    "        l=[]\n",
    "        k=input('Enter Number:')\n",
    "        if(k.lower()!='stop'):\n",
    "            l.append(int(k))\n",
    "        else:\n",
    "            return l\n",
    "            break\n",
    "opFun(input('Enter Operator:').strip(),*inputN())\n",
    "        "
   ]
  },
  {
   "cell_type": "code",
   "execution_count": 68,
   "id": "265b59b6-72f3-4e24-bd58-b39ce5b70000",
   "metadata": {},
   "outputs": [
    {
     "name": "stdin",
     "output_type": "stream",
     "text": [
      "Enter N numbers separated by space:  1 2 4 0 5/\n"
     ]
    },
    {
     "name": "stdout",
     "output_type": "stream",
     "text": [
      "7\n",
      "8\n",
      "-5\n",
      "0.125\n"
     ]
    }
   ],
   "source": [
    "from functools import reduce\n",
    "import operator\n",
    "\n",
    "def k(op, *args):\n",
    "    if op == '+':\n",
    "        return reduce(operator.add, args)\n",
    "    elif op == '-':\n",
    "        return reduce(operator.sub, args)\n",
    "    elif op == '*':\n",
    "        return reduce(operator.mul, args)\n",
    "    elif op == '/':\n",
    "        return reduce(operator.truediv, args)\n",
    "    else:\n",
    "        raise ValueError(\"Unsupported operator\")\n",
    "def is_valid_number(s):\n",
    "    return s.lstrip('-').isdigit() and int(s)>0 \n",
    "\n",
    "l = list(map(int, filter(is_valid_number, input('Enter N numbers separated by space: ').split())))\n",
    "print(k('+', *l))  # Output: 6\n",
    "print(k('*', *l))  # Output: 6\n",
    "print(k('-', *l))  # Output: -4\n",
    "print(k('/', *l))  # Output: 0.16666666666666666\n"
   ]
  },
  {
   "cell_type": "code",
   "execution_count": 136,
   "id": "009b9432-ced3-4558-a438-6546b620145a",
   "metadata": {},
   "outputs": [
    {
     "name": "stdout",
     "output_type": "stream",
     "text": [
      "Tails\n",
      "Tails\n",
      "Heads\n",
      "Tails\n",
      "Tails\n",
      "Tails\n",
      "Heads\n",
      "Tails\n",
      "Tails\n",
      "Heads\n"
     ]
    }
   ],
   "source": [
    "#Coin TOss\n",
    "import random as rand\n",
    "def letsToss():\n",
    "    toss=rand.randint(0,1)\n",
    "    print('Heads') if toss==1 else print('Tails')\n",
    "for i in range(10):\n",
    "    letsToss()"
   ]
  },
  {
   "cell_type": "code",
   "execution_count": 160,
   "id": "569f1e7a-e449-4b6c-b52a-67de3cd63c9d",
   "metadata": {},
   "outputs": [
    {
     "name": "stdin",
     "output_type": "stream",
     "text": [
      "Enter N numbers separated by space:  'Abhi' 'V' 'YS' 'YP' 'AP' 'JP'\n"
     ]
    },
    {
     "name": "stdout",
     "output_type": "stream",
     "text": [
      "The the person who will pay bill is 'YP'\n"
     ]
    }
   ],
   "source": [
    "# person Paying Bill\n",
    "import random as rand\n",
    "names= list(input('Enter N numbers separated by space: ').split())\n",
    "# names=['Abhi','V','YS','YP','AP','JP']\n",
    "print(f'The the person who will pay bill is {names[rand.randint(0,len(names)-1)]}')"
   ]
  },
  {
   "cell_type": "code",
   "execution_count": 22,
   "id": "dc21efd5-199b-470b-b8e3-c2dff492ddce",
   "metadata": {},
   "outputs": [
    {
     "name": "stdin",
     "output_type": "stream",
     "text": [
      "\n",
      "\n",
      "Enter 1 For Playing \n",
      "Enter 2 For Exit\n",
      "Enter Your Choice: 2\n"
     ]
    },
    {
     "name": "stdout",
     "output_type": "stream",
     "text": [
      "THANK YOU!!\n"
     ]
    }
   ],
   "source": [
    "import random as rand\n",
    "flag=0\n",
    "hs=0\n",
    "choice=1\n",
    "while(choice==1):\n",
    "    org=rand.randint(1,10)\n",
    "    choice=int(input(\"\\n\\nEnter 1 For Playing \\nEnter 2 For Exit\\nEnter Your Choice:\"))\n",
    "    if(choice==2):\n",
    "        print(\"THANK YOU!!\")\n",
    "        break\n",
    "    for i in range(5):\n",
    "        guess=int(input('Guess The Number:'))\n",
    "        if(guess==org):\n",
    "            score=5-i\n",
    "            print('\\n\\nBingooooooooooooooooo!')\n",
    "            print(f\"You have guessed the Number Correctly in {score} guesses\")\n",
    "            flag=0\n",
    "            hs= score if(score>hs) else hs\n",
    "            print(f\"YOUR HIGHSCORE:{hs}\")\n",
    "            break\n",
    "        elif(guess>org):\n",
    "            print(f\"Your guessed Number is Too High And Number of Chances left are {4-i}\")\n",
    "            flag=1\n",
    "        else:\n",
    "            print(f\"Your guessed Number is Too Low And Number of Chances left are {4-i}\")\n",
    "            flag=1\n",
    "    if(flag==1):\n",
    "        print(\"YOU LOST\")\n",
    "        print(f\"THE NUMBER WAS {org}\")"
   ]
  },
  {
   "cell_type": "code",
   "execution_count": 39,
   "id": "61872ea0-bb47-43d4-a5a9-c8837fe5e5c8",
   "metadata": {},
   "outputs": [
    {
     "name": "stdout",
     "output_type": "stream",
     "text": [
      "$\n",
      "key:$,value:dollar\n",
      "1\n"
     ]
    }
   ],
   "source": [
    "d={}\n",
    "d['$']='dollar'\n",
    "# d.append('@','At sign')\n",
    "print(d.get('@','$'))\n",
    "for i,j in d.items():\n",
    "    print(f'key:{i},value:{j}')\n",
    "s={'s1':{'roll':1,'gen':'boy'},'s2':{'roll':2,'gen':'girl'}}\n",
    "print(s['s1']['roll'])\n",
    "# s['s1'].pop('gen')\n",
    "# print(s)"
   ]
  },
  {
   "cell_type": "code",
   "execution_count": 53,
   "id": "87a807f1-b27b-4b08-9907-ee785bf60509",
   "metadata": {},
   "outputs": [
    {
     "data": {
      "text/plain": [
       "[0, 1, 2, 3]"
      ]
     },
     "execution_count": 53,
     "metadata": {},
     "output_type": "execute_result"
    }
   ],
   "source": [
    "l=[1,2,3,0]\n",
    "l=tuple(l)\n",
    "# l.sort()\n",
    "sorted(l)"
   ]
  },
  {
   "cell_type": "code",
   "execution_count": 91,
   "id": "f16fdf5d-07b0-4984-8e33-3a460a6aed0d",
   "metadata": {},
   "outputs": [
    {
     "name": "stdin",
     "output_type": "stream",
     "text": [
      " abhiram@28\n"
     ]
    },
    {
     "name": "stdout",
     "output_type": "stream",
     "text": [
      "Password Must conatin Mixture of both lowercase and uppercase characters \n"
     ]
    }
   ],
   "source": [
    "#Password Strength\n",
    "def PasswordStrength(password):\n",
    "    flag=0\n",
    "    c=0\n",
    "    s1=\"\"\n",
    "    sp=['[','@','_','!','#','$','%','^','&','*','(',')','<','>','?','/','|','}','{','~',':',']']\n",
    "    if(len(password)<=8 or len(password) >=16):\n",
    "        print('Length is of Password must be >=8 and <=16') \n",
    "        flag=1\n",
    "    for i in password:\n",
    "        if i in sp:\n",
    "            c+=1\n",
    "        else:\n",
    "            s1+=i\n",
    "    if(s1.isalpha() or s1.isdigit()):\n",
    "        print('Password Must conatin Mixture of both characters and numbers')\n",
    "        flag=1\n",
    "    if(s1.islower() or s1.isupper()):\n",
    "        print('Password Must conatin Mixture of both lowercase and uppercase characters ')\n",
    "        flag=1\n",
    "    if(c==0):\n",
    "        print('Password Must conatinAt at least One Special Symbol')\n",
    "        flag=1\n",
    "    if(flag==0):\n",
    "        print('PassWord Is Perfect')\n",
    "PasswordStrength(input())\n",
    "        "
   ]
  },
  {
   "cell_type": "code",
   "execution_count": 121,
   "id": "87214ce6-8949-47af-b52e-5c5862b2b390",
   "metadata": {},
   "outputs": [
    {
     "name": "stdin",
     "output_type": "stream",
     "text": [
      "Enter N numbers separated by space:  1 2 2 3 3 4\n"
     ]
    },
    {
     "name": "stdout",
     "output_type": "stream",
     "text": [
      "5\n"
     ]
    }
   ],
   "source": [
    "def is_valid_number(s):\n",
    "    return s.lstrip('-').isdigit()  \n",
    "def SumofNonDuplicate(l):\n",
    "    s=0\n",
    "    l1=[]\n",
    "    for i in range (len(l)):\n",
    "        if l[i] in l1:\n",
    "            continue\n",
    "        elif l[i] in l[i+1:]:\n",
    "            l1.append(l[i])\n",
    "            # print(l1)\n",
    "        if l[i] not in l1 :\n",
    "            # print(l[i])\n",
    "            s+=l[i]\n",
    "    return s\n",
    "l = list(map(int, filter(is_valid_number, input('Enter N numbers separated by space: ').split())))\n",
    "print(SumofNonDuplicate(l))"
   ]
  },
  {
   "cell_type": "code",
   "execution_count": 127,
   "id": "1fe12fcf-f9ac-42c8-929a-3ec16417adf4",
   "metadata": {},
   "outputs": [
    {
     "name": "stdin",
     "output_type": "stream",
     "text": [
      " abhiram\n",
      " a\n"
     ]
    },
    {
     "name": "stdout",
     "output_type": "stream",
     "text": [
      "2\n"
     ]
    }
   ],
   "source": [
    "#Write a program to print the no. of occurences of a given character in a given string\n",
    "s=input().lower()\n",
    "c=input().lower()\n",
    "s1=0\n",
    "for i in range(len(s)-1):\n",
    "    if(s[i]==c):\n",
    "        s1+=1\n",
    "print(s1)"
   ]
  },
  {
   "cell_type": "code",
   "execution_count": 139,
   "id": "93910e3f-34d4-471f-816b-780bf8253558",
   "metadata": {},
   "outputs": [
    {
     "name": "stdin",
     "output_type": "stream",
     "text": [
      " 12\n"
     ]
    },
    {
     "name": "stdout",
     "output_type": "stream",
     "text": [
      "Buzz\n"
     ]
    }
   ],
   "source": [
    "# write a fizzbuzz program.\n",
    "# hint - if the number is divisible to 3 print 'Fizz', if divisible by 5 means print 'Buzz'\n",
    "# if divisible by both 3 and 5 means print 'FizzBuzz'.\n",
    "\n",
    "n=int(input())\n",
    "print('FizzBuzz' if(n%3==0 and n%5==0) else 'Fizz' if(n%5==0) else 'Buzz' if(n%3==0) else 'NOPE')"
   ]
  },
  {
   "cell_type": "code",
   "execution_count": 3,
   "id": "b0873850-8869-4215-b564-9429ea8314dc",
   "metadata": {
    "scrolled": true
   },
   "outputs": [
    {
     "name": "stdin",
     "output_type": "stream",
     "text": [
      "Enter Length 8\n"
     ]
    },
    {
     "name": "stdout",
     "output_type": "stream",
     "text": [
      "hH?49$T[\n"
     ]
    }
   ],
   "source": [
    "# give length of the password as input from the user and create a random password generator program which contain alphabet, number and special characters.\n",
    "import random as rand\n",
    "sp=['[','@','_','!','#','$','%','^','&','*','(',')','<','>','?','/','|','}','{','~',':',']']\n",
    "num=['0','1','2','3','4','5','6','7','8','9']\n",
    "n=int(input(\"Enter Length\"))\n",
    "p=\"\"\n",
    "p+=chr(rand.randint(ord('a'), ord('z')))\n",
    "p+=chr(rand.randint(ord('A'), ord('Z')))\n",
    "p+=rand.choice(sp)\n",
    "p+=rand.choice(num)\n",
    "i=4\n",
    "while(i!=n):\n",
    "    c=rand.randint(1,4)\n",
    "    if(c==1):\n",
    "        p+=chr(rand.randint(ord('A'), ord('Z')))\n",
    "    elif(c==2):\n",
    "        p+=chr(rand.randint(ord('A'), ord('Z')))\n",
    "    elif(c==3):\n",
    "        p+=rand.choice(sp)\n",
    "    else:\n",
    "        p+=rand.choice(num)\n",
    "    i+=1\n",
    "print(p)"
   ]
  },
  {
   "cell_type": "code",
   "execution_count": 13,
   "id": "de052e85-338c-4d92-b8b5-37d4bb6266c1",
   "metadata": {},
   "outputs": [
    {
     "name": "stdout",
     "output_type": "stream",
     "text": [
      "Player 1=rock and Player 2=scissor\n",
      "Player 1 Wins\n"
     ]
    }
   ],
   "source": [
    "import random as rand\n",
    "l=['rock','paper','scissor']\n",
    "flag=0\n",
    "while(True):\n",
    "    p1=rand.choice(l)\n",
    "    p2=rand.choice(l)\n",
    "    if(p1==p2):\n",
    "        continue\n",
    "    elif((p1=='scissor' and p2 =='paper' ) or (p1=='paper' and p2=='rock') or (p1=='rock' and p2=='scissor')):\n",
    "        print(f'Player 1={p1} and Player 2={p2}')\n",
    "        print('Player 1 Wins')\n",
    "        break\n",
    "    else:\n",
    "        print(f'Player 1={p1} and Player 2={p2}')\n",
    "        print('Player 2 Wins')\n",
    "        break"
   ]
  },
  {
   "cell_type": "code",
   "execution_count": null,
   "id": "1b54a39f-e50f-4783-8390-9f3537e719fe",
   "metadata": {},
   "outputs": [],
   "source": []
  }
 ],
 "metadata": {
  "kernelspec": {
   "display_name": "Python [conda env:base] *",
   "language": "python",
   "name": "conda-base-py"
  },
  "language_info": {
   "codemirror_mode": {
    "name": "ipython",
    "version": 3
   },
   "file_extension": ".py",
   "mimetype": "text/x-python",
   "name": "python",
   "nbconvert_exporter": "python",
   "pygments_lexer": "ipython3",
   "version": "3.12.7"
  }
 },
 "nbformat": 4,
 "nbformat_minor": 5
}
