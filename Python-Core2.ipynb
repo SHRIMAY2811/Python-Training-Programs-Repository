{
 "cells": [
  {
   "cell_type": "code",
   "execution_count": 8,
   "id": "66d965b3-04fa-4c61-bb6a-f8dfcdc9604d",
   "metadata": {},
   "outputs": [
    {
     "name": "stdin",
     "output_type": "stream",
     "text": [
      " 11\n"
     ]
    },
    {
     "name": "stdout",
     "output_type": "stream",
     "text": [
      "[2, 3, 5, 7, 11, 13, 17, 19, 23, 29, 31]\n"
     ]
    }
   ],
   "source": [
    "# First N prime numbers\n",
    "l = []\n",
    "n = 2\n",
    "count = 0  \n",
    "num=int(input())\n",
    "while count < num:  \n",
    "    is_prime = True\n",
    "    for j in range(2, int(n**0.5) + 1):\n",
    "        if n % j == 0:\n",
    "            is_prime = False\n",
    "            break  \n",
    "    if is_prime:  \n",
    "        l.append(n)\n",
    "        count += 1  \n",
    "    n += 1  \n",
    "print(l)\n"
   ]
  },
  {
   "cell_type": "code",
   "execution_count": 42,
   "id": "be514b41-7315-46ce-bf70-ed94ff57a559",
   "metadata": {},
   "outputs": [
    {
     "name": "stdout",
     "output_type": "stream",
     "text": [
      "rupaloS,ygolonhceT fO etutitsnI dnahclaW\n"
     ]
    }
   ],
   "source": [
    "#Reverse String\n",
    "s=\"Walchand Institute Of Technology,Solapur\"\n",
    "s1=\"\"\n",
    "for i in range(len(s)-1,-1,-1):\n",
    "    s1+=s[i]\n",
    "print(s1)"
   ]
  },
  {
   "cell_type": "code",
   "execution_count": 44,
   "id": "c6f36044-c354-40bb-b203-dc58df4f079d",
   "metadata": {},
   "outputs": [
    {
     "name": "stdout",
     "output_type": "stream",
     "text": [
      "Wlhn nttt fTcnlg,oau\n"
     ]
    }
   ],
   "source": [
    "#Even Part\n",
    "s=\"Walchand Institute Of Technology,Solapur\"\n",
    "s1=\"\"\n",
    "for i in range(0,len(s),+2):\n",
    "    s1+=s[i]\n",
    "print(s1)"
   ]
  },
  {
   "cell_type": "code",
   "execution_count": 28,
   "id": "fa8edc58-dcf7-43f3-8506-1b8ed88f624e",
   "metadata": {},
   "outputs": [
    {
     "name": "stdout",
     "output_type": "stream",
     "text": [
      "acadIsiueO ehooySlpr\n"
     ]
    }
   ],
   "source": [
    "#Odd Part\n",
    "s=\"Walchand Institute Of Technology,Solapur\"\n",
    "s1=\"\"\n",
    "for i in range(1,len(s),+2):\n",
    "    s1+=s[i]\n",
    "print(s1)"
   ]
  },
  {
   "cell_type": "code",
   "execution_count": 40,
   "id": "a48e350a-71d9-4610-aecf-5ba67dbe99c5",
   "metadata": {},
   "outputs": [
    {
     "name": "stdout",
     "output_type": "stream",
     "text": [
      "['Walchand', 'Institute', 'Of', 'Technology,Solapur']\n"
     ]
    }
   ],
   "source": [
    "#split\n",
    "s=\"Walchand Institute Of Technology,Solapur\"\n",
    "s1=[]\n",
    "j=0\n",
    "for i in range(0,len(s)):\n",
    "    if(s[i]==' '):\n",
    "        s1.append(s[j:i])\n",
    "        j=i+1\n",
    "if(j!=len(s)+1):\n",
    "    s1.append(s[j:len(s)])\n",
    "print(s1)"
   ]
  },
  {
   "cell_type": "code",
   "execution_count": 44,
   "id": "82adbee4-5024-4158-b82e-ccf596660989",
   "metadata": {},
   "outputs": [
    {
     "name": "stdin",
     "output_type": "stream",
     "text": [
      " Abhiram\n"
     ]
    },
    {
     "name": "stdout",
     "output_type": "stream",
     "text": [
      "{'a': 2, 'b': 1, 'h': 1, 'i': 1, 'r': 1, 'm': 1}\n"
     ]
    }
   ],
   "source": [
    "#Count of Each Character\n",
    "s=input()\n",
    "s=s.lower()\n",
    "s1={}\n",
    "for i in range(0,len(s)):\n",
    "    if(s[i]==' '):\n",
    "        continue;\n",
    "    if(s[i] not in s1):\n",
    "        s1[s[i]]=1\n",
    "    else:\n",
    "        s1[s[i]]+=1\n",
    "print(s1)"
   ]
  },
  {
   "cell_type": "code",
   "execution_count": 88,
   "id": "2cdd59b6-d07d-4c26-b73d-7fd20cafa172",
   "metadata": {},
   "outputs": [
    {
     "name": "stdin",
     "output_type": "stream",
     "text": [
      " Abhiram\n",
      " a\n"
     ]
    },
    {
     "name": "stdout",
     "output_type": "stream",
     "text": [
      "*bhir*\n"
     ]
    }
   ],
   "source": [
    "#change desired char to *\n",
    "s=input().lower()\n",
    "c=input().lower()\n",
    "s1=\"\"\n",
    "for i in range(len(s)-1):\n",
    "    if(s[i]==c):\n",
    "        s1+=\"*\"\n",
    "    else:\n",
    "        s1+=s[i]\n",
    "print(s1)"
   ]
  },
  {
   "cell_type": "code",
   "execution_count": 94,
   "id": "e66da906-011c-4ef9-b23c-1658e0a91a4a",
   "metadata": {},
   "outputs": [
    {
     "name": "stdin",
     "output_type": "stream",
     "text": [
      " Abhiram\n"
     ]
    },
    {
     "name": "stdout",
     "output_type": "stream",
     "text": [
      "NUMBER VOWELS ARE: 3\n"
     ]
    }
   ],
   "source": [
    "#vowels\n",
    "\n",
    "s=input().lower()\n",
    "c=0\n",
    "for i in range(len(s)-1):\n",
    "    if(s[i]=='a' or s[i]=='e' or s[i]=='i' or s[i]=='o' or s[i]=='u' ):\n",
    "        c+=1\n",
    "print(\"NUMBER VOWELS ARE:\",c)\n"
   ]
  },
  {
   "cell_type": "code",
   "execution_count": 7,
   "id": "8990a897-2cb6-49cf-acff-4774a4eb6b9d",
   "metadata": {},
   "outputs": [
    {
     "name": "stdin",
     "output_type": "stream",
     "text": [
      " 5\n"
     ]
    },
    {
     "name": "stdout",
     "output_type": "stream",
     "text": [
      "     *\n",
      "    **\n",
      "   ***\n",
      "  ****\n",
      " *****\n"
     ]
    }
   ],
   "source": [
    "n=int(input())\n",
    "for i in range(n):\n",
    "    for j in range(n-i):\n",
    "        print(\" \",end=\"\")\n",
    "    for j in range(i+1):\n",
    "        print(\"*\",end=\"\")\n",
    "    print()"
   ]
  },
  {
   "cell_type": "code",
   "execution_count": 9,
   "id": "599bfc85-2fcf-47ed-8978-18289569753b",
   "metadata": {},
   "outputs": [
    {
     "name": "stdin",
     "output_type": "stream",
     "text": [
      " 5\n"
     ]
    },
    {
     "name": "stdout",
     "output_type": "stream",
     "text": [
      "     * \n",
      "    * * \n",
      "   * * * \n",
      "  * * * * \n",
      " * * * * * \n"
     ]
    }
   ],
   "source": [
    "n=int(input())\n",
    "for i in range(n):\n",
    "    for j in range(n-i):\n",
    "        print(\" \",end=\"\")\n",
    "    for j in range(i+1):\n",
    "        print(\"* \",end=\"\")\n",
    "    print()"
   ]
  },
  {
   "cell_type": "code",
   "execution_count": 15,
   "id": "b0cddac8-c255-440b-ac93-9003a0b7f3b7",
   "metadata": {},
   "outputs": [
    {
     "name": "stdin",
     "output_type": "stream",
     "text": [
      " 5\n"
     ]
    },
    {
     "name": "stdout",
     "output_type": "stream",
     "text": [
      "* * * * * \n",
      " * * * * \n",
      "  * * * \n",
      "   * * \n",
      "    * \n",
      "     \n"
     ]
    }
   ],
   "source": [
    "n=int(input())\n",
    "for i in range(n,-1,-1):\n",
    "    for j in range(n-i):\n",
    "        print(\" \",end=\"\")\n",
    "    for j in range(0,i):\n",
    "        print(\"* \",end=\"\")\n",
    "    print()"
   ]
  },
  {
   "cell_type": "code",
   "execution_count": 50,
   "id": "f8e26cf3-bbae-41b9-b3b5-046d15919cfd",
   "metadata": {},
   "outputs": [
    {
     "name": "stdin",
     "output_type": "stream",
     "text": [
      "Enter the number of rows:  5\n"
     ]
    },
    {
     "name": "stdout",
     "output_type": "stream",
     "text": [
      " *  *  *  *  *  *  *  *  *  * \n",
      "  *  *  *  *    *  *  *  * \n",
      "   *  *  *      *  *  * \n",
      "    *  *        *  * \n",
      "     *          * \n"
     ]
    }
   ],
   "source": [
    "n = int(input(\"Enter the number of rows: \"))\n",
    "\n",
    "for i in range(n, 0, -1):  # Loop from n to 1 (reverse order)\n",
    "    # Leading spaces\n",
    "    print(\" \" * (n - i), end=\"\")\n",
    "\n",
    "    # First hill\n",
    "    for j in range(i):\n",
    "        print(\" * \", end=\"\")\n",
    "\n",
    "    # Middle spaces\n",
    "    print(\" \" * (2 * (n - i)), end=\"\")\n",
    "\n",
    "    # Second hill\n",
    "    for j in range(i):\n",
    "        print(\" * \", end=\"\")\n",
    "\n",
    "    print()  # New line\n"
   ]
  },
  {
   "cell_type": "code",
   "execution_count": 96,
   "id": "8c036d5b-9b86-4f08-ae7d-7be675e69df0",
   "metadata": {},
   "outputs": [
    {
     "name": "stdin",
     "output_type": "stream",
     "text": [
      " d\n"
     ]
    },
    {
     "name": "stdout",
     "output_type": "stream",
     "text": [
      "1\n"
     ]
    }
   ],
   "source": [
    "def lenS(a):\n",
    "    l=0\n",
    "    for i in a:\n",
    "        l+=1\n",
    "    return l\n",
    "print(lenS(input()))"
   ]
  },
  {
   "cell_type": "code",
   "execution_count": 145,
   "id": "f78f6596-bf83-48c5-b728-b2f1505f2620",
   "metadata": {},
   "outputs": [
    {
     "name": "stdin",
     "output_type": "stream",
     "text": [
      " abhi\n"
     ]
    },
    {
     "name": "stdout",
     "output_type": "stream",
     "text": [
      " ABHI\n"
     ]
    }
   ],
   "source": [
    "def cusUpper(a):\n",
    "    s1=\" \"\n",
    "    for i in a:\n",
    "        if(i>='a' and  i<='z'):\n",
    "            s1+=chr(ord(i)-32)\n",
    "        else:\n",
    "            s1+=i\n",
    "    return s1\n",
    "print(cusUpper(input()))"
   ]
  },
  {
   "cell_type": "code",
   "execution_count": 4,
   "id": "0c7ca9e4-c42a-4553-a40b-c4b79994dd0e",
   "metadata": {},
   "outputs": [
    {
     "name": "stdin",
     "output_type": "stream",
     "text": [
      " AAAAAAAAAAAAAAAAAAAAAAAAA\n"
     ]
    },
    {
     "name": "stdout",
     "output_type": "stream",
     "text": [
      " aaaaaaaaaaaaaaaaaaaaaaaaa\n"
     ]
    }
   ],
   "source": [
    "def cusLower(a):\n",
    "    s1=\" \"\n",
    "    for i in a:\n",
    "        if(i>='A' and  i<='Z'):\n",
    "            s1+=chr(ord(i)+32)\n",
    "        else:\n",
    "            s1+=i\n",
    "    return s1 \n",
    "print(cusLower(input()))"
   ]
  },
  {
   "cell_type": "code",
   "execution_count": null,
   "id": "ee77fe68-393a-4fcd-b5ce-f25b67ae3364",
   "metadata": {},
   "outputs": [],
   "source": []
  }
 ],
 "metadata": {
  "kernelspec": {
   "display_name": "Python [conda env:base] *",
   "language": "python",
   "name": "conda-base-py"
  },
  "language_info": {
   "codemirror_mode": {
    "name": "ipython",
    "version": 3
   },
   "file_extension": ".py",
   "mimetype": "text/x-python",
   "name": "python",
   "nbconvert_exporter": "python",
   "pygments_lexer": "ipython3",
   "version": "3.12.7"
  }
 },
 "nbformat": 4,
 "nbformat_minor": 5
}
