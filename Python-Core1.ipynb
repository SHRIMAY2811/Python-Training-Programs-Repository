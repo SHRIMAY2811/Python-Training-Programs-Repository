{
 "cells": [
  {
   "cell_type": "code",
   "execution_count": 2,
   "id": "82caa19c-9aff-4715-a2aa-c57e76976ca9",
   "metadata": {},
   "outputs": [
    {
     "name": "stdout",
     "output_type": "stream",
     "text": [
      "Y W A\n"
     ]
    }
   ],
   "source": [
    "print(\"Y W A\")"
   ]
  },
  {
   "cell_type": "code",
   "execution_count": 4,
   "id": "921f3a1b-b251-4b5d-be65-bd7549f70256",
   "metadata": {},
   "outputs": [
    {
     "name": "stdout",
     "output_type": "stream",
     "text": [
      "(1, 2, 3, 33)\n"
     ]
    }
   ],
   "source": [
    "l1=(1,2,3,33,3,3,1,33)\n",
    "l1=tuple(set(l1))\n",
    "print(l1)"
   ]
  },
  {
   "cell_type": "code",
   "execution_count": 6,
   "id": "c86704be-4b62-4bdf-915e-90a3297c1beb",
   "metadata": {},
   "outputs": [
    {
     "data": {
      "text/plain": [
       "'hello world'"
      ]
     },
     "execution_count": 6,
     "metadata": {},
     "output_type": "execute_result"
    }
   ],
   "source": [
    "\"hello world\""
   ]
  },
  {
   "cell_type": "code",
   "execution_count": 8,
   "id": "b90772b6-0330-49e0-a911-2f15d664399f",
   "metadata": {},
   "outputs": [
    {
     "name": "stdout",
     "output_type": "stream",
     "text": [
      "16\n",
      "Ai\n",
      "abhiram yanganti\n",
      "ABHIRAM YANGANTI\n",
      "['Abhiram', 'Yanganti']\n",
      "My Name is Abhiram Yanganti . I study in WIT\n",
      "My Name is WIT . I study in Abhiram Yanganti\n",
      "My Name is AR . I study in MED\n"
     ]
    }
   ],
   "source": [
    "str1=\"Abhiram Yanganti\"\n",
    "clg=\"WIT\"\n",
    "print(len(str1))\n",
    "print(str1[::15])\n",
    "print(str1.lower())\n",
    "print(str1.upper())\n",
    "print(str1.split())\n",
    "print(\"My Name is {} . I study in {}\".format(str1,clg))\n",
    "print(\"My Name is {1} . I study in {0}\".format(str1,clg))\n",
    "print(\"My Name is {str1} . I study in {clg}\".format(str1=\"AR\",clg=\"MED\"))"
   ]
  },
  {
   "cell_type": "code",
   "execution_count": 10,
   "id": "4e8c2dac-3ae0-41e8-a720-2c83ef54a306",
   "metadata": {},
   "outputs": [
    {
     "name": "stdout",
     "output_type": "stream",
     "text": [
      "[1, 2, 3, 4, 5, 4, 4, 5, 5, 6, 4, 3, 3, 3, '22', [11, 22, 33]]\n",
      "<class 'list'>\n",
      "[1, 3, 5, 4, 5, 4, 3, '22']\n",
      "16\n",
      "4\n",
      "1\n",
      "33\n"
     ]
    }
   ],
   "source": [
    "l1=[1,2,3,4,5,4,4,5,5,6,4,3,3,3]\n",
    "l1=l1+[\"22\"]\n",
    "l2=[11,22,33]\n",
    "l1.append(l2)\n",
    "print(l1)\n",
    "# print(str1.join(' '))\n",
    "print(type(l1))\n",
    "print(l1[::2])\n",
    "print(len(l1))\n",
    "print(l1.count(3))\n",
    "print(l1[0])\n",
    "# in this basically the last elemnt is another so double pop wil pop the elemnt of inner list\n",
    "print(l1.pop().pop())"
   ]
  },
  {
   "cell_type": "code",
   "execution_count": 12,
   "id": "6bea00d8-d4b2-4001-a8ed-ca47df44302c",
   "metadata": {},
   "outputs": [
    {
     "name": "stdout",
     "output_type": "stream",
     "text": [
      "30\n",
      "dict_items([(1, 'Abhi'), (2, [23, 12, 29, 30]), (3, 'WIT')])\n",
      "dict_keys([1, 2, 3])\n",
      "I\n",
      "{1: 'Abhi', 2: [23, 12, 29, 30], 3: 'WIT'}\n",
      "{1: 'ABHIRAM', 2: [23, 12, 29, 30], 3: 'WIT'}\n"
     ]
    }
   ],
   "source": [
    "d1={1:'Abhi',2:[23,12,29,30],3:'WIT'}\n",
    "print(d1[2][-1])\n",
    "print(d1.items())\n",
    "print(d1.keys())\n",
    "print(d1[1][-1].upper())\n",
    "print(d1)\n",
    "d1[1]=\"ABHIRAM\"\n",
    "print(d1)"
   ]
  },
  {
   "cell_type": "code",
   "execution_count": 14,
   "id": "87a8451d-d5b4-4463-8d0b-4a161f704856",
   "metadata": {},
   "outputs": [
    {
     "name": "stdout",
     "output_type": "stream",
     "text": [
      "<class 'dict'>\n"
     ]
    },
    {
     "data": {
      "text/plain": [
       "set"
      ]
     },
     "execution_count": 14,
     "metadata": {},
     "output_type": "execute_result"
    }
   ],
   "source": [
    "i=set()\n",
    "j={}\n",
    "print(type(j))\n",
    "type(i)"
   ]
  },
  {
   "cell_type": "code",
   "execution_count": 16,
   "id": "62eef2d7-a9ce-4c49-a5c1-ae512aa091e4",
   "metadata": {},
   "outputs": [
    {
     "name": "stdout",
     "output_type": "stream",
     "text": [
      "A\n"
     ]
    }
   ],
   "source": [
    "a=1\n",
    "if(a):\n",
    "    print(\"A\")\n",
    "else:\n",
    "    print(\"a\")"
   ]
  },
  {
   "cell_type": "code",
   "execution_count": 20,
   "id": "5ee2886d-4667-4d1b-bdf2-0a7afce4abe9",
   "metadata": {},
   "outputs": [
    {
     "name": "stdin",
     "output_type": "stream",
     "text": [
      " 1\n",
      " 2\n",
      " 3\n"
     ]
    },
    {
     "name": "stdout",
     "output_type": "stream",
     "text": [
      "3  is greatest\n"
     ]
    }
   ],
   "source": [
    "#Greatest of 3\n",
    "i=int(input())\n",
    "j=int(input())\n",
    "k=int(input())\n",
    "if(i>j and j>k):\n",
    "    print(i,\" is greatest\")\n",
    "elif(j>k and j>i):\n",
    "    print(j,\" is greatest\")\n",
    "else:\n",
    "    print(k,\" is greatest\")"
   ]
  },
  {
   "cell_type": "code",
   "execution_count": 22,
   "id": "c99dda60-6d07-492a-8cda-40b106749363",
   "metadata": {},
   "outputs": [
    {
     "name": "stdout",
     "output_type": "stream",
     "text": [
      "I am from Manglore\n"
     ]
    }
   ],
   "source": [
    "loc=\"Manglore\"\n",
    "print(\"I am from {}\".format(loc))"
   ]
  },
  {
   "cell_type": "code",
   "execution_count": 24,
   "id": "439d347b-d42c-4c2f-ac82-9fcbe777e37c",
   "metadata": {},
   "outputs": [
    {
     "name": "stdin",
     "output_type": "stream",
     "text": [
      " 3550\n"
     ]
    },
    {
     "name": "stdout",
     "output_type": "stream",
     "text": [
      "43600\n"
     ]
    }
   ],
   "source": [
    "# E-bil 3550\n",
    "units=int(input())\n",
    "bill=0\n",
    "units=units-200\n",
    "if(units>=800):\n",
    "    bill=((units-800)*14)+(500*11)+(300*8)\n",
    "elif(units>500):\n",
    "    bil=((units-500)*11)+(300*8)\n",
    "elif(units>200):\n",
    "    bill=(units-200)*8\n",
    "print(bill) "
   ]
  },
  {
   "cell_type": "code",
   "execution_count": 28,
   "id": "506c67e0-db9e-43e3-8f1f-bb24391313e0",
   "metadata": {},
   "outputs": [
    {
     "name": "stdin",
     "output_type": "stream",
     "text": [
      " 5\n",
      " 5\n"
     ]
    },
    {
     "name": "stdout",
     "output_type": "stream",
     "text": [
      "0\n"
     ]
    }
   ],
   "source": [
    "# Savings \n",
    "sal=int(input())\n",
    "sav=int(input())\n",
    "sav=sav-200000 if (sav>200000) else sav\n",
    "tax=0\n",
    "sal=sal-sav\n",
    "if(sal>=2200000):\n",
    "    tax=((sal-2200000)*0.3)+(1200000*0.2)+(1000000*0.1)\n",
    "elif(sal>1200000):\n",
    "    tax=((sal-1200000)*0.2)+(1000000*0.1)\n",
    "elif(sal>100000):\n",
    "    tax=(sal-1000000)*0.1\n",
    "print(tax) "
   ]
  },
  {
   "cell_type": "code",
   "execution_count": 69,
   "id": "b92b6c6e-e32b-463a-847e-60cb62a09f84",
   "metadata": {},
   "outputs": [
    {
     "name": "stdin",
     "output_type": "stream",
     "text": [
      " 333333333333333333333\n"
     ]
    },
    {
     "name": "stdout",
     "output_type": "stream",
     "text": [
      "5.999999999999987e+19\n"
     ]
    }
   ],
   "source": [
    "# Savings \n",
    "sal=int(input())\n",
    "intrest=0\n",
    "if(sal>=2500000):\n",
    "    intrest=((sal-2500000)*0.18)+(1500000*0.15)+(1000000*0.1)\n",
    "elif(sal>1200000):\n",
    "    intrest=((sal-1500000)*0.15)+(1000000*0.1)\n",
    "elif(sal>100000):\n",
    "    intrest=(sal-1000000)*0.1\n",
    "print(intrest) "
   ]
  },
  {
   "cell_type": "code",
   "execution_count": 79,
   "id": "1e9f4176-4d04-4a81-bb43-46870931d35c",
   "metadata": {},
   "outputs": [
    {
     "name": "stdin",
     "output_type": "stream",
     "text": [
      "Enter a number:  11\n"
     ]
    },
    {
     "name": "stdout",
     "output_type": "stream",
     "text": [
      "11 is a prime number.\n"
     ]
    }
   ],
   "source": [
    "#Prime\n",
    "def is_prime(n):\n",
    "    if n < 2:\n",
    "        return False\n",
    "    for i in range(2, int(n**0.5) + 1):\n",
    "        if n % i == 0:\n",
    "            return False\n",
    "    return True\n",
    "num = int(input(\"Enter a number: \"))\n",
    "if is_prime(num):\n",
    "    print(f\"{num} is a prime number.\")\n",
    "else:\n",
    "    print(f\"{num} is not a prime number.\")"
   ]
  },
  {
   "cell_type": "code",
   "execution_count": 85,
   "id": "bff52f9b-eb6c-4b8d-b33e-357258aa02cb",
   "metadata": {},
   "outputs": [
    {
     "name": "stdin",
     "output_type": "stream",
     "text": [
      "Enter a number:  153\n"
     ]
    },
    {
     "name": "stdout",
     "output_type": "stream",
     "text": [
      "153 is an Armstrong number.\n"
     ]
    }
   ],
   "source": [
    "#Armstrong\n",
    "def is_armstrong(n):\n",
    "    num_str = str(n)\n",
    "    num_digits = len(num_str)\n",
    "    armstrong_sum = sum(int(digit) ** num_digits for digit in num_str)\n",
    "    \n",
    "    return armstrong_sum == n\n",
    "\n",
    "# Example usage\n",
    "num = int(input(\"Enter a number: \"))\n",
    "if is_armstrong(num):\n",
    "    print(f\"{num} is an Armstrong number.\")\n",
    "else:\n",
    "    print(f\"{num} is not an Armstrong number.\")"
   ]
  },
  {
   "cell_type": "code",
   "execution_count": 37,
   "id": "a22b7268-ecd1-46dc-9860-4c5acd50faa8",
   "metadata": {},
   "outputs": [
    {
     "name": "stdout",
     "output_type": "stream",
     "text": [
      "[2, 3, 5, 7, 11, 13, 17, 19, 23, 29, 31, 37, 41, 43, 47]\n"
     ]
    }
   ],
   "source": [
    "l = []\n",
    "n = 2\n",
    "count = 0  \n",
    "while count < 15:  \n",
    "    is_prime = True\n",
    "    for j in range(2, int(n**0.5) + 1):\n",
    "        if n % j == 0:\n",
    "            is_prime = False\n",
    "            break  \n",
    "    if is_prime:  \n",
    "        l.append(n)\n",
    "        count += 1  \n",
    "    n += 1  \n",
    "print(l)"
   ]
  },
  {
   "cell_type": "code",
   "execution_count": 39,
   "id": "1f790cc1-f68d-4ac4-b858-e079c6b617d6",
   "metadata": {},
   "outputs": [
    {
     "name": "stdout",
     "output_type": "stream",
     "text": [
      "Hello Moto\n",
      "Hello Moto\n",
      "Hello Moto\n",
      "Hello Moto\n",
      "Hello Moto\n"
     ]
    }
   ],
   "source": [
    "\n",
    "while True:\n",
    "    print(\"Hello Moto\")\n",
    "    i=i+1\n",
    "    if i==4:\n",
    "        break"
   ]
  },
  {
   "cell_type": "code",
   "execution_count": null,
   "id": "182caf41-9d45-4dbc-81bd-02082503674a",
   "metadata": {},
   "outputs": [],
   "source": []
  }
 ],
 "metadata": {
  "kernelspec": {
   "display_name": "Python [conda env:base] *",
   "language": "python",
   "name": "conda-base-py"
  },
  "language_info": {
   "codemirror_mode": {
    "name": "ipython",
    "version": 3
   },
   "file_extension": ".py",
   "mimetype": "text/x-python",
   "name": "python",
   "nbconvert_exporter": "python",
   "pygments_lexer": "ipython3",
   "version": "3.12.7"
  }
 },
 "nbformat": 4,
 "nbformat_minor": 5
}
